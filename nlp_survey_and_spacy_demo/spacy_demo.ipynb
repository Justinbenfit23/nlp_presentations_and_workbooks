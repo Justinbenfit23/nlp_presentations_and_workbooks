{
 "cells": [
  {
   "cell_type": "code",
   "execution_count": 3,
   "metadata": {},
   "outputs": [],
   "source": [
    "import pandas as pd\n",
    "import numpy as np\n",
    "reviews = pd.read_csv('../NLP_DATASETS/reviews_get.csv')"
   ]
  },
  {
   "cell_type": "markdown",
   "metadata": {},
   "source": [
    "# Instructions for Downloading Spacy\n",
    "\n",
    "**Fun Fact**: the Cy in spaCy indicates that Cython powers many of the underlying computations. Cython is a superset of the Python language that additionally supports calling C functions\n",
    "\n",
    "1. go here: https://spacy.io/usage and follow instructions. I chose:\n",
    " Operating System: Mac OS/OSX \n",
    " Platform: x86\n",
    " Package Manager: pip (couldn't get it to download with conda)\n",
    " (Check virtual environment as it is recommended to start with a fresh virtual env and this will give you the code for it for convenience)\n",
    " Hardware: CPU (GPU requires that you either download CUDA or have an NVIDIA graphics card)\n",
    " Trained Pipeline: English\n",
    " Selected to prioritize Accuracy over Efficiency\n",
    "2. This will result in the following:\n",
    "    - python -m venv .env\n",
    "    - source .env/bin/activate\n",
    "    - pip install -U pip setuptools wheel\n",
    "    - pip install -U spacy\n",
    "    - python -m spacy download en_core_web_trf (if want efficiency can use en_core_web_sm instead)\n",
    "\n",
    "    which will install and update necessary package managers and spaCy and hopefully avoid most of the issues I ran into when trying to do it on my own. The resulting pipeline is spaCy's en_core_web_trf model which is a pretrained statistical model for predicting linguistic annotations such as if a word is a verb or noun for example\n",
    "\n",
    "**Helpful Links** \n",
    "* https://spacy.io/usage (referenced above)\n",
    "* https://spacy.io/usage/spacy-101\n",
    "* https:o//course.spacy.io/en (A course that walks you through using spaCY with code examples)"
   ]
  },
  {
   "cell_type": "markdown",
   "metadata": {},
   "source": [
    "### What's included in spaCy?\n",
    "* **Binary weights** for the part-of-speech tagger, dependency parser and named entity recognizer to predict those annotations in context.\n",
    "* **Lexical entries in the vocabulary**, i.e. words and their context-independent attributes like the shape or spelling.\n",
    "* **Data files** like lemmatization rules and lookup tables.\n",
    "* **Word vectors**, i.e. multi-dimensional meaning representations of words that let you determine how similar they are to each other.\n",
    "* **Configuration options**, like the language and processing pipeline settings and model implementations to use, to put spaCy in the correct state when you load the pipeline."
   ]
  },
  {
   "cell_type": "code",
   "execution_count": 4,
   "metadata": {},
   "outputs": [],
   "source": [
    "import spacy\n",
    "from spacy import displacy\n",
    "from spacy.matcher import Matcher\n",
    "from collections import Counter"
   ]
  },
  {
   "cell_type": "code",
   "execution_count": 5,
   "metadata": {},
   "outputs": [],
   "source": [
    "#load the pre-trained pipeline\n",
    "# nlp = spacy.load('en_core_web_trf')\n",
    "nlp = spacy.load('en_core_web_sm')"
   ]
  },
  {
   "cell_type": "markdown",
   "metadata": {},
   "source": [
    "### Some common linguistic annotations that come packaged into the models as attributes of spaCy that will be useful to know:\n",
    "* **text** - the token itself\n",
    "* **lemma_** - the lemmatized version of the token\n",
    "* **orth_** - the token and index location of the token in the vocabulary. token.text returns the string representation of the token which merely wraps around the orth_\n",
    "* **pos_** - part_of_speech such as a verb, adverb, noun etc...\n",
    "* **is_stop** - boolean identifies if is a stop-token or not\n",
    "* **tag_** - part_of_speech tag to identify more context specific information about the token\n",
    "* **dep_** - type of dependency relation -  is used for the arc label, which describes the type of syntactic relation that connects the child to the head\n",
    "* **shape_** - the lemmatized token represented with lower and upper case x's.\n",
    "* **is_alpha_** - boolean to identify if token contains alphabetic characters"
   ]
  },
  {
   "cell_type": "code",
   "execution_count": 6,
   "metadata": {},
   "outputs": [
    {
     "name": "stdout",
     "output_type": "stream",
     "text": [
      "text     lemma  orth   POS    TAG    Dep    shape  is_stop is_alpha POS explained        tag explained \n",
      "Apple    Apple  Apple  PROPN  NNP    nsubj  Xxxxx       0          1 proper noun          noun, proper singular\n",
      "is       be     is     AUX    VBZ    aux    xx          1          1 auxiliary            verb, 3rd person singular present\n",
      "looking  look   looking VERB   VBG    ROOT   xxxx        0          1 verb                 verb, gerund or present participle\n",
      "at       at     at     ADP    IN     prep   xx          1          1 adposition           conjunction, subordinating or preposition\n",
      "buying   buy    buying VERB   VBG    pcomp  xxxx        0          1 verb                 verb, gerund or present participle\n",
      "U.K.     U.K.   U.K.   PROPN  NNP    dobj   X.X.        0          0 proper noun          noun, proper singular\n",
      "startup  startup startup NOUN   NN     dobj   xxxx        0          1 noun                 noun, singular or mass\n",
      "for      for    for    ADP    IN     prep   xxx         1          1 adposition           conjunction, subordinating or preposition\n",
      "$        $      $      SYM    $      quantmod $           0          0 symbol               symbol, currency\n",
      "1        1      1      NUM    CD     compound d           0          0 numeral              cardinal number\n",
      "billion  billion billion NUM    CD     pobj   xxxx        0          1 numeral              cardinal number\n"
     ]
    }
   ],
   "source": [
    "doc = nlp(\"Apple is looking at buying U.K. startup for $1 billion\")\n",
    "\n",
    "print(f\"{'text':{8}} {'lemma':{6}} {'orth':{6}} {'POS':{6}} {'TAG':{6}} {'Dep':{6}} {'shape':{6}} {'is_stop':{6}} {'is_alpha':{6}} {'POS explained':{20}} {'tag explained'} \")\n",
    "for token in doc:\n",
    "    print(f'{token.text:{8}} {token.lemma_:{6}} {token.orth_:{6}} {token.pos_:{6}} {token.tag_:{6}} {token.dep_:{6}} {token.shape_:{6}} {token.is_stop:{6}} {token.is_alpha:{10}} {spacy.explain(token.pos_):{20}} {spacy.explain(token.tag_)}')"
   ]
  },
  {
   "cell_type": "markdown",
   "metadata": {},
   "source": [
    "### Now onto Named Entity Recognition and a more podium-specific demo...\n",
    "**Goal** - To be able to identify the name of a Key decision-maker at a business based only on review text\n",
    "\n",
    "**Process** -\n",
    "* Identify a \"cherry-picked\" example for demonstration\n",
    "* Predict its parts_of_speech tags and \"ents\" or named entities by running it through the pre-trained pipeline we loaded from spaCy\n",
    "* Begin to identify tokens around the main word that are able to inform whether or not the main word refers to a Key Decision Maker at the company"
   ]
  },
  {
   "cell_type": "code",
   "execution_count": 7,
   "metadata": {},
   "outputs": [
    {
     "name": "stdout",
     "output_type": "stream",
     "text": [
      "[Apple, U.K., $1 billion]\n",
      "ORG\n",
      "Apple\n"
     ]
    }
   ],
   "source": [
    "#Named Entity Recognition (ner)\n",
    "\n",
    "#NOTE: spacy has the 'ner' pipeline component that identifies token spans fitting a predetermined set of named entities. \n",
    "#These are available as the 'ents' property of a Doc object and return any named entities including names of people and organizations \n",
    "\n",
    "ents = list(doc.ents)\n",
    "print(ents)\n",
    "print(ents[0].label_)\n",
    "print(ents[0].text)"
   ]
  },
  {
   "cell_type": "markdown",
   "metadata": {},
   "source": [
    "### One more note about the 'ner' component (per spaCy documentation - link below):\n",
    "* The entity recognizer identifies non-overlapping labelled spans of tokens. The transition-based algorithm used encodes certain assumptions that are effective for “traditional” named entity recognition tasks, but may not be a good fit for every span identification problem. Specifically, the **loss function optimizes for whole entity accuracy**, so if your inter-annotator agreement on boundary tokens is low, the component will likely perform poorly on your problem\n",
    "* The transition-based algorithm also assumes that the most decisive information about your entities will be close to their initial tokens. If your entities are long and characterized by tokens in their middle, the component will likely not be a good fit for your task\n",
    "* (see https://spacy.io/api/entityrecognizer for more information)"
   ]
  },
  {
   "cell_type": "code",
   "execution_count": 8,
   "metadata": {},
   "outputs": [],
   "source": [
    "#One measure of agreement between annotators (Fleiss’ Kappa is another) \n",
    "#I believe this is only necessary to check if you are labeling your own annotations and token boundaries which I'm not sure I'm doing here (ask aaron)\n",
    "def cohen_kappa(ann1, ann2):\n",
    "    \"\"\"Computes Cohen kappa for pair-wise annotators.\n",
    "    :param ann1: annotations provided by first annotator\n",
    "    :type ann1: list\n",
    "    :param ann2: annotations provided by second annotator\n",
    "    :type ann2: list\n",
    "    :rtype: float\n",
    "    :return: Cohen kappa statistic\n",
    "    \"\"\"\n",
    "    count = 0\n",
    "    for an1, an2 in zip(ann1, ann2):\n",
    "        if an1 == an2:\n",
    "            count += 1\n",
    "    A = count / len(ann1)  # observed agreement A (Po)\n",
    "\n",
    "    uniq = set(ann1 + ann2)\n",
    "    E = 0  # expected agreement E (Pe)\n",
    "    for item in uniq:\n",
    "        cnt1 = ann1.count(item)\n",
    "        cnt2 = ann2.count(item)\n",
    "        count = ((cnt1 / len(ann1)) * (cnt2 / len(ann2)))\n",
    "        E += count\n",
    "\n",
    "    return round((A - E) / (1 - E), 4)\n",
    "\n",
    "#see link: https://towardsdatascience.com/inter-annotator-agreement-2f46c6d37bf3"
   ]
  },
  {
   "cell_type": "code",
   "execution_count": 9,
   "metadata": {},
   "outputs": [
    {
     "data": {
      "text/plain": [
       "['Very professional and courteous technicians.  Highly recommend these guys.  Team assigned to my project:  Ryan, Adrian, Arthur.  ServPro will be the only place I will call for any and all future clean up and damage mitigation projects.Service:\\xa0Water damage-related cleanup & repair',\n",
       " 'Great moving company! Super fast and efficient! The team was made up of experienced movers!',\n",
       " 'Always good customer service, the manger Mike has always take care of me, he and his team do a great gob every time.',\n",
       " 'Yes a very pleasant and efficient team']"
      ]
     },
     "execution_count": 9,
     "metadata": {},
     "output_type": "execute_result"
    }
   ],
   "source": [
    "#look for a good example to work with by searching for reviews with the word \"team\"\n",
    "examples = reviews.loc[reviews['REVIEW_BODY'].str.contains('team|Team', na=False),'REVIEW_BODY']\n",
    "examples = list(examples)\n",
    "examples"
   ]
  },
  {
   "cell_type": "code",
   "execution_count": 10,
   "metadata": {},
   "outputs": [
    {
     "data": {
      "text/plain": [
       "'Always good customer service, the manger Mike has always take care of me, he and his team do a great gob every time.'"
      ]
     },
     "execution_count": 10,
     "metadata": {},
     "output_type": "execute_result"
    }
   ],
   "source": [
    "#select the best example manually\n",
    "example = examples[2]\n",
    "example"
   ]
  },
  {
   "cell_type": "code",
   "execution_count": 11,
   "metadata": {},
   "outputs": [
    {
     "data": {
      "text/plain": [
       "spacy.tokens.doc.Doc"
      ]
     },
     "execution_count": 11,
     "metadata": {},
     "output_type": "execute_result"
    }
   ],
   "source": [
    "#run pipeline on selection to tag with annotations and ents\n",
    "example = nlp(example)\n",
    "type(example)"
   ]
  },
  {
   "cell_type": "code",
   "execution_count": 12,
   "metadata": {},
   "outputs": [
    {
     "name": "stdout",
     "output_type": "stream",
     "text": [
      "Always good customer service, the manger Mike has always take care of me, he and his team do a great gob every time.\n",
      "Counter({'PERSON': 1})\n",
      "['I want to reuse this warning, thanks to Natalie Kalaitzidis\\'s review: DO NOT GO TO THIS DENTIST!!!! DO NOT GO TO THIS DENTIST!!!!\\nYou will be ripped off regardless you do pay for what you approve, presented clearly on the paper you signed.\\nAt the first visit, I got a detailed treatment case with hand written about the amount I need to pay on all the needed visits. I did pay all the amount I supposed to pay for all the 4 planned visits by the 2nd visit. I was warned that I had have maxed out my insurance of the year plan so my next visit in December I need to pay out of my pocket. Fine, I didn\\'t do the December visit with a thought \"no rush, I\\'ll go in the following year as December is the end of the year anyway.\"\\nTo my surprise, on Christmas Eve, I received text from this Dental office saying I owed them $520.88 balance. I explained to them that I did pay $520 on my first visit but they said my insurance maxed out so I need to pay. I explained I didn\\'t do the 3rd visit in December so I owe nothing but again, they insisted I had maxed out my insurance and I needed to pay this $520. I asked them to send me the explanation or a detailed statement why I ended up owing them this amount. All I received is a paper with one simple stating \"Balance Forward\". I couldn\\'t help so I talked with my insurance and the insurance explained they needed additional information from the dental office. I contacted the dental office regarding the additional information request by my insurance. To my surprise again,  I got the Statement of Account with only one row stating \"Balance Forward\" with the amount $520.88, nothing more, except a highlighted note \"Final notice before being sent to collections\". I can\\'t believe this!\\nI\\'ve tried to talk with the office but all what they do is insisting I maxed out my plan, I need to pay this amount and that if I don\\'t pay this amount they will send it to collection. I tried to explain but they didn\\'t listen, told me that I need to contact my insurance for information. I said I couldn\\'t contact my insurance again and again when I didn\\'t have more information and you are the one who did the service, please send additional information to my insurance as they requested. They said the insurance had all the information! So I asked please send me the details so that I can check myself. They didn\\'t let me talk but accused me screaming at them. I am so frustrated so fine,  I didn\\'t scream at you but if you think so, I have no issue but just please send me a detailed statement instead of this one row of \"Balance Forward\" as I can\\'t understand this. The last thing I heard is \"Fine! It\\'s easy to do.\"\\nI wonder why they didn\\'t just do that instead?\\nAnw, they show their true color now that we\\'d never come back though my family like the hygienist there. Be aware of those hidden costs. You might end up to pay more than what you agreed to pay. I wasn\\'t the one who calculated all the amounts why I ended paying more than what I approved on writing? And why don\\'t they just provide additional information as requested by their patient and the insurance? I now totally agree with Karthik Balaji\\'s review that this Dental care are NOT being OPEN about the final price to the patients and being clear. And even when they are charging what you did not approve, they treat you as criminals. I wished I had checked out those reviews before.\\nI\\'m now waiting for their statement of this \"easy to do\" though I think this $520 is the amount I had paid in August, I seem have to pay it again at this state as who knows what else they charge other than the service I actually received in Aug & Sep. I just want to help people whoever wants to check out this dental care know how poor customer service this practice is and all those hidden costs they can throw to you. I lost their trust on this dental care completely.\\nDO NOT GO TO THIS DENTIST!!!! DO NOT GO TO THIS DENTIST!!!!']\n"
     ]
    },
    {
     "data": {
      "text/plain": [
       "Counter({'PERSON': 1,\n",
       "         'ORDINAL': 3,\n",
       "         'CARDINAL': 2,\n",
       "         'DATE': 9,\n",
       "         'NORP': 2,\n",
       "         'MONEY': 5,\n",
       "         'WORK_OF_ART': 3,\n",
       "         'ORG': 2})"
      ]
     },
     "execution_count": 12,
     "metadata": {},
     "output_type": "execute_result"
    }
   ],
   "source": [
    "# get list of ents in the doc \"example\"\n",
    "labels = [x.label_ for x in example.ents]\n",
    "print(example)\n",
    "print(Counter(labels))\n",
    "\n",
    "#Another more rich example:\n",
    "rich = list(reviews['REVIEW_BODY'].iloc[[42]])\n",
    "rz = nlp(str(rich))\n",
    "rz_ent = [x.label_ for x in rz.ents]\n",
    "print(rich)\n",
    "Counter(rz_ent)"
   ]
  },
  {
   "cell_type": "code",
   "execution_count": 13,
   "metadata": {},
   "outputs": [
    {
     "name": "stdout",
     "output_type": "stream",
     "text": [
      "{'Mike': 'PERSON'}\n"
     ]
    },
    {
     "data": {
      "text/plain": [
       "{\"Natalie Kalaitzidis\\\\'s\": 'PERSON',\n",
       " 'first': 'ORDINAL',\n",
       " '4': 'CARDINAL',\n",
       " 'the 2nd': 'DATE',\n",
       " 'December': 'DATE',\n",
       " 'the following year': 'DATE',\n",
       " 'the end of the year': 'DATE',\n",
       " 'Christmas Eve': 'DATE',\n",
       " 'Dental': 'NORP',\n",
       " '520.88': 'MONEY',\n",
       " '520': 'MONEY',\n",
       " '3rd': 'ORDINAL',\n",
       " 'one': 'CARDINAL',\n",
       " 'Balance Forward': 'WORK_OF_ART',\n",
       " 'Karthik': 'ORG',\n",
       " 'August': 'DATE',\n",
       " 'Aug & Sep.': 'ORG'}"
      ]
     },
     "execution_count": 13,
     "metadata": {},
     "output_type": "execute_result"
    }
   ],
   "source": [
    "#Let's see which one is which for our two examples\n",
    "print(dict([(str(x), x.label_) for x in nlp(str(example)).ents]))\n",
    "dict([(str(x), x.label_) for x in nlp(str(rz)).ents])"
   ]
  },
  {
   "cell_type": "markdown",
   "metadata": {},
   "source": [
    "### Entities that spaCy recognizes\n",
    "\n",
    "* **PERSON**:      People, including fictional.\n",
    "* **NORP**:        Nationalities or religious or political groups.\n",
    "* **FAC**:         Buildings, airports, highways, bridges, etc.\n",
    "* **ORG**:         Companies, agencies, institutions, etc.\n",
    "* **GPE**:         Countries, cities, states.\n",
    "* **LOC**:         Non-GPE locations, mountain ranges, bodies of water.\n",
    "* **PRODUCT**:     Objects, vehicles, foods, etc. (Not services.)\n",
    "* **EVENT**:       Named hurricanes, battles, wars, sports events, etc.\n",
    "* **WORK_OF_ART**: Titles of books, songs, etc.\n",
    "* **LAW**:         Named documents made into laws.\n",
    "* **LANGUAGE**:    Any named language.\n",
    "* **DATE**:        Absolute or relative dates or periods.\n",
    "* **TIME**:        Times smaller than a day.\n",
    "* **PERCENT**:     Percentage, including ”%“.\n",
    "* **MONEY**:       Monetary values, including unit.\n",
    "* **QUANTITY**:    Measurements, as of weight or distance.\n",
    "* **ORDINAL**:     “first”, “second”, etc.\n",
    "* **CARDINAL**:    Numerals that do not fall under another type.\n",
    "\n",
    "* see link: https://towardsdatascience.com/explorations-in-named-entity-recognition-and-was-eleanor-roosevelt-right-671271117218"
   ]
  },
  {
   "cell_type": "code",
   "execution_count": 19,
   "metadata": {},
   "outputs": [
    {
     "data": {
      "text/html": [
       "<span class=\"tex2jax_ignore\"><div class=\"entities\" style=\"line-height: 2.5; direction: ltr\">Always good customer service, the manger \n",
       "<mark class=\"entity\" style=\"background: #aa9cfc; padding: 0.45em 0.6em; margin: 0 0.25em; line-height: 1; border-radius: 0.35em;\">\n",
       "    Mike\n",
       "    <span style=\"font-size: 0.8em; font-weight: bold; line-height: 1; border-radius: 0.35em; vertical-align: middle; margin-left: 0.5rem\">PERSON</span>\n",
       "</mark>\n",
       " has always take care of me, he and his team do a great gob every time.</div></span>"
      ],
      "text/plain": [
       "<IPython.core.display.HTML object>"
      ]
     },
     "metadata": {},
     "output_type": "display_data"
    }
   ],
   "source": [
    "#Another way to visualize is with their graphical interface displacy that integrates into jupyter\n",
    "displacy.render(example, jupyter=True, style='ent')"
   ]
  },
  {
   "cell_type": "markdown",
   "metadata": {},
   "source": [
    "### It might be helpful to have this here to interpret what comes next - Parts of Speech:\n",
    "1. **Adverbs** - a word or phrase that modifies or qualifies an adjective, verb, or other adverb or a word group, expressing a relation of place, time, circumstance, manner, cause, degree, etc. (e.g., gently, quite, then, there )\n",
    "2. **Verbs** - a word used to describe an action, state, or occurrence, and forming the main part of the predicate of a sentence, such as hear, become, happen.\n",
    "3. **Adjective** - a word or phrase naming an attribute, added to or grammatically related to a noun to modify or describe it.\n",
    "4. **Nouns** - a word (other than a pronoun) used to identify any of a class of people, places, or things ( common noun ), or to name a particular one of these ( proper noun )\n",
    "5. **Pronouns** - a word that can function by itself as a noun phrase and that refers either to the participants in the discourse (e.g., I, you ) or to someone or something mentioned elsewhere in the discourse (e.g., she, it, this ).\n",
    "6. **Prepositions** - a word governing, and usually preceding, a noun or pronoun and expressing a relation to another word or element in the clause, as in “the man on the platform,” “she arrived after dinner,” “what did you do it for ?”.\n",
    "7. **Conjunctions** - a word used to connect clauses or sentences or to coordinate words in the same clause (e.g. and, but, if )\n",
    "8. **Interjections** - an exclamation, especially as a part of speech (e.g. ah!, dear me! ).\n",
    "9. **Determiner** - a word (such as an article, possessive, demonstrative, or quantifier) that makes specific the denotation of a noun phrase. e.g. **The** bunny went home. (determiner comes directly before the noun)\n",
    "I ate **the** chocolate cookie for dessert. (determiner comes before the adjective chocolate that describes the noun cookie)\n",
    "10. **Article** - used to modify nouns (two in english: \"the\" and \"a/an\")\n",
    "11. **Possessive** - being or belonging to the case of a noun or pronoun that shows possession \"His\" is a possessive pronoun e.g. **Wayne's** World in case of a noun\n",
    "12. **Demonstrative** - a determiner or a pronoun that points to a particular noun or to the noun it replaces (e.g. \"this\", \"these', \"that\", \"those\")\n",
    "13. **Quantifier** - a word, especially a modifier, that indicates the quantity of something. e.g. much, many, each, every, one, two, several, a few, a couple etc.\n",
    "14. **CCONJ** - A coordinating conjunction is a word that links words or larger constituents without syntactically subordinating one to the other and expresses a semantic relationship between them\n",
    "15. **SCONJ** - a conjunction that links constructions by making one of them a constituent of the other. The subordinating conjunction typically marks the incorporated constituent which has the status of a (subordinate) clause. e.g. **that** as in \"I believe that he will come.\" if, while etc.\n",
    "15. **AUX** - An auxiliary verb is a verb that adds functional or grammatical meaning to the clause in which it occurs, so as to express tense, aspect, modality, voice, emphasis, etc e.g. **to be, to have, and to do**.\n",
    "16. **ADP** - **Adposition** - general term including both prepositions and postpossitions\n",
    "17. **Clause** - **Independent Clause** (also called a main clause) - A clause is a group of related words with both a subject and a predicate (verb). e.g. Subject + verb (predicate). = complete thought (IC or Independent Clause), I eat bananas. = complete thought (IC)\n",
    "18. **Dependent Clause** - (also called a subordinate clause) is a group of words that has\n",
    "a subject and a verb and starts with a subordinating conjunction. A dependent\n",
    "clause cannot stand alone as a sentence. e.g. \"After I ate raspberries\"\n",
    "19. **AMOD** - An adjectival modifier of an NP is any adjectival phrase that serves to modify the meaning of the NP e.g. Sam eats **red** meat\n",
    "20. **APPOS** - An appositional modifier of a noun is a nominal immediately following the first noun that serves to define, modify, name, or describe that noun. It includes parenthesized examples, as well as defining abbreviations in one of these structures. e.g. \"Sam, **my brother**, arrived\n",
    "21. **NN** - singular common nouns\n",
    "22. **NNS** - plural common nouns\n",
    "23. **NP** - singular proper nouns\n",
    "24. **Compound** - a word that is made up of two or more existing parts or elements\n",
    "25. **Nominal Subject** - a nominal which is the syntactic subject and the proto-agent of a clause. \n",
    "26. **Nominal** - a grammatical category for words or groups of words that function as nouns in a sentence.\n",
    "27. **Direct Object** - The direct object of a verb is the noun phrase that denotes the entity acted upon. e.g. **The students eat cake, the direct object is cake**\n",
    "28. **Adverbial Modifier** -  a word or phrase that is used to modify another part of a sentence, typically a verb or adjective. When used properly, these modifiers provide additional information about an action or some part of a sentence and answer a question about it. e.g. \"**less** often\" In the sentence, “He crossed the bridge quickly,” the word “quickly” is an adverbial modifier. The modifier in this example answers the question, “How did he cross the bridge?” \"Hardly\" is the adverbial modifier in the sentence, \"She slapped him hardly.\n",
    "29. **Predicate** - the part of a sentence or clause containing a verb and stating something about the subject (e.g. **went home** in \"John went home\").\n",
    "30. **NPADVMOD** -  noun phrase as adverbial modifier e.g. “The silence is **itself significant**”\n",
    "\n",
    "**Good resouces:** \n",
    "* https://universaldependencies.org/docs/\n",
    "* https://downloads.cs.stanford.edu/nlp/software/dependencies_manual.pdf\n",
    "* https://machinelearningknowledge.ai/tutorial-on-spacy-part-of-speech-pos-tagging/"
   ]
  },
  {
   "cell_type": "code",
   "execution_count": 15,
   "metadata": {},
   "outputs": [
    {
     "data": {
      "text/html": [
       "<span class=\"tex2jax_ignore\"><svg xmlns=\"http://www.w3.org/2000/svg\" xmlns:xlink=\"http://www.w3.org/1999/xlink\" xml:lang=\"en\" id=\"79bb7e6e3ba1486c9523676434c784fc-0\" class=\"displacy\" width=\"2810\" height=\"377.0\" direction=\"ltr\" style=\"max-width: none; height: 377.0px; color: #000000; background: #ffffff; font-family: Arial; direction: ltr\">\n",
       "<text class=\"displacy-token\" fill=\"currentColor\" text-anchor=\"middle\" y=\"287.0\">\n",
       "    <tspan class=\"displacy-word\" fill=\"currentColor\" x=\"50\">Always</tspan>\n",
       "    <tspan class=\"displacy-tag\" dy=\"2em\" fill=\"currentColor\" x=\"50\">ADV</tspan>\n",
       "</text>\n",
       "\n",
       "<text class=\"displacy-token\" fill=\"currentColor\" text-anchor=\"middle\" y=\"287.0\">\n",
       "    <tspan class=\"displacy-word\" fill=\"currentColor\" x=\"170\">good</tspan>\n",
       "    <tspan class=\"displacy-tag\" dy=\"2em\" fill=\"currentColor\" x=\"170\">ADJ</tspan>\n",
       "</text>\n",
       "\n",
       "<text class=\"displacy-token\" fill=\"currentColor\" text-anchor=\"middle\" y=\"287.0\">\n",
       "    <tspan class=\"displacy-word\" fill=\"currentColor\" x=\"290\">customer</tspan>\n",
       "    <tspan class=\"displacy-tag\" dy=\"2em\" fill=\"currentColor\" x=\"290\">NOUN</tspan>\n",
       "</text>\n",
       "\n",
       "<text class=\"displacy-token\" fill=\"currentColor\" text-anchor=\"middle\" y=\"287.0\">\n",
       "    <tspan class=\"displacy-word\" fill=\"currentColor\" x=\"410\">service,</tspan>\n",
       "    <tspan class=\"displacy-tag\" dy=\"2em\" fill=\"currentColor\" x=\"410\">NOUN</tspan>\n",
       "</text>\n",
       "\n",
       "<text class=\"displacy-token\" fill=\"currentColor\" text-anchor=\"middle\" y=\"287.0\">\n",
       "    <tspan class=\"displacy-word\" fill=\"currentColor\" x=\"530\">the</tspan>\n",
       "    <tspan class=\"displacy-tag\" dy=\"2em\" fill=\"currentColor\" x=\"530\">DET</tspan>\n",
       "</text>\n",
       "\n",
       "<text class=\"displacy-token\" fill=\"currentColor\" text-anchor=\"middle\" y=\"287.0\">\n",
       "    <tspan class=\"displacy-word\" fill=\"currentColor\" x=\"650\">manger</tspan>\n",
       "    <tspan class=\"displacy-tag\" dy=\"2em\" fill=\"currentColor\" x=\"650\">NOUN</tspan>\n",
       "</text>\n",
       "\n",
       "<text class=\"displacy-token\" fill=\"currentColor\" text-anchor=\"middle\" y=\"287.0\">\n",
       "    <tspan class=\"displacy-word\" fill=\"currentColor\" x=\"770\">Mike</tspan>\n",
       "    <tspan class=\"displacy-tag\" dy=\"2em\" fill=\"currentColor\" x=\"770\">PROPN</tspan>\n",
       "</text>\n",
       "\n",
       "<text class=\"displacy-token\" fill=\"currentColor\" text-anchor=\"middle\" y=\"287.0\">\n",
       "    <tspan class=\"displacy-word\" fill=\"currentColor\" x=\"890\">has</tspan>\n",
       "    <tspan class=\"displacy-tag\" dy=\"2em\" fill=\"currentColor\" x=\"890\">AUX</tspan>\n",
       "</text>\n",
       "\n",
       "<text class=\"displacy-token\" fill=\"currentColor\" text-anchor=\"middle\" y=\"287.0\">\n",
       "    <tspan class=\"displacy-word\" fill=\"currentColor\" x=\"1010\">always</tspan>\n",
       "    <tspan class=\"displacy-tag\" dy=\"2em\" fill=\"currentColor\" x=\"1010\">ADV</tspan>\n",
       "</text>\n",
       "\n",
       "<text class=\"displacy-token\" fill=\"currentColor\" text-anchor=\"middle\" y=\"287.0\">\n",
       "    <tspan class=\"displacy-word\" fill=\"currentColor\" x=\"1130\">take</tspan>\n",
       "    <tspan class=\"displacy-tag\" dy=\"2em\" fill=\"currentColor\" x=\"1130\">VERB</tspan>\n",
       "</text>\n",
       "\n",
       "<text class=\"displacy-token\" fill=\"currentColor\" text-anchor=\"middle\" y=\"287.0\">\n",
       "    <tspan class=\"displacy-word\" fill=\"currentColor\" x=\"1250\">care</tspan>\n",
       "    <tspan class=\"displacy-tag\" dy=\"2em\" fill=\"currentColor\" x=\"1250\">NOUN</tspan>\n",
       "</text>\n",
       "\n",
       "<text class=\"displacy-token\" fill=\"currentColor\" text-anchor=\"middle\" y=\"287.0\">\n",
       "    <tspan class=\"displacy-word\" fill=\"currentColor\" x=\"1370\">of</tspan>\n",
       "    <tspan class=\"displacy-tag\" dy=\"2em\" fill=\"currentColor\" x=\"1370\">ADP</tspan>\n",
       "</text>\n",
       "\n",
       "<text class=\"displacy-token\" fill=\"currentColor\" text-anchor=\"middle\" y=\"287.0\">\n",
       "    <tspan class=\"displacy-word\" fill=\"currentColor\" x=\"1490\">me,</tspan>\n",
       "    <tspan class=\"displacy-tag\" dy=\"2em\" fill=\"currentColor\" x=\"1490\">PRON</tspan>\n",
       "</text>\n",
       "\n",
       "<text class=\"displacy-token\" fill=\"currentColor\" text-anchor=\"middle\" y=\"287.0\">\n",
       "    <tspan class=\"displacy-word\" fill=\"currentColor\" x=\"1610\">he</tspan>\n",
       "    <tspan class=\"displacy-tag\" dy=\"2em\" fill=\"currentColor\" x=\"1610\">PRON</tspan>\n",
       "</text>\n",
       "\n",
       "<text class=\"displacy-token\" fill=\"currentColor\" text-anchor=\"middle\" y=\"287.0\">\n",
       "    <tspan class=\"displacy-word\" fill=\"currentColor\" x=\"1730\">and</tspan>\n",
       "    <tspan class=\"displacy-tag\" dy=\"2em\" fill=\"currentColor\" x=\"1730\">CCONJ</tspan>\n",
       "</text>\n",
       "\n",
       "<text class=\"displacy-token\" fill=\"currentColor\" text-anchor=\"middle\" y=\"287.0\">\n",
       "    <tspan class=\"displacy-word\" fill=\"currentColor\" x=\"1850\">his</tspan>\n",
       "    <tspan class=\"displacy-tag\" dy=\"2em\" fill=\"currentColor\" x=\"1850\">PRON</tspan>\n",
       "</text>\n",
       "\n",
       "<text class=\"displacy-token\" fill=\"currentColor\" text-anchor=\"middle\" y=\"287.0\">\n",
       "    <tspan class=\"displacy-word\" fill=\"currentColor\" x=\"1970\">team</tspan>\n",
       "    <tspan class=\"displacy-tag\" dy=\"2em\" fill=\"currentColor\" x=\"1970\">NOUN</tspan>\n",
       "</text>\n",
       "\n",
       "<text class=\"displacy-token\" fill=\"currentColor\" text-anchor=\"middle\" y=\"287.0\">\n",
       "    <tspan class=\"displacy-word\" fill=\"currentColor\" x=\"2090\">do</tspan>\n",
       "    <tspan class=\"displacy-tag\" dy=\"2em\" fill=\"currentColor\" x=\"2090\">VERB</tspan>\n",
       "</text>\n",
       "\n",
       "<text class=\"displacy-token\" fill=\"currentColor\" text-anchor=\"middle\" y=\"287.0\">\n",
       "    <tspan class=\"displacy-word\" fill=\"currentColor\" x=\"2210\">a</tspan>\n",
       "    <tspan class=\"displacy-tag\" dy=\"2em\" fill=\"currentColor\" x=\"2210\">DET</tspan>\n",
       "</text>\n",
       "\n",
       "<text class=\"displacy-token\" fill=\"currentColor\" text-anchor=\"middle\" y=\"287.0\">\n",
       "    <tspan class=\"displacy-word\" fill=\"currentColor\" x=\"2330\">great</tspan>\n",
       "    <tspan class=\"displacy-tag\" dy=\"2em\" fill=\"currentColor\" x=\"2330\">ADJ</tspan>\n",
       "</text>\n",
       "\n",
       "<text class=\"displacy-token\" fill=\"currentColor\" text-anchor=\"middle\" y=\"287.0\">\n",
       "    <tspan class=\"displacy-word\" fill=\"currentColor\" x=\"2450\">gob</tspan>\n",
       "    <tspan class=\"displacy-tag\" dy=\"2em\" fill=\"currentColor\" x=\"2450\">NOUN</tspan>\n",
       "</text>\n",
       "\n",
       "<text class=\"displacy-token\" fill=\"currentColor\" text-anchor=\"middle\" y=\"287.0\">\n",
       "    <tspan class=\"displacy-word\" fill=\"currentColor\" x=\"2570\">every</tspan>\n",
       "    <tspan class=\"displacy-tag\" dy=\"2em\" fill=\"currentColor\" x=\"2570\">DET</tspan>\n",
       "</text>\n",
       "\n",
       "<text class=\"displacy-token\" fill=\"currentColor\" text-anchor=\"middle\" y=\"287.0\">\n",
       "    <tspan class=\"displacy-word\" fill=\"currentColor\" x=\"2690\">time.</tspan>\n",
       "    <tspan class=\"displacy-tag\" dy=\"2em\" fill=\"currentColor\" x=\"2690\">NOUN</tspan>\n",
       "</text>\n",
       "\n",
       "<g class=\"displacy-arrow\">\n",
       "    <path class=\"displacy-arc\" id=\"arrow-79bb7e6e3ba1486c9523676434c784fc-0-0\" stroke-width=\"2px\" d=\"M70,242.0 C70,62.0 405.0,62.0 405.0,242.0\" fill=\"none\" stroke=\"currentColor\"/>\n",
       "    <text dy=\"1.25em\" style=\"font-size: 0.8em; letter-spacing: 1px\">\n",
       "        <textPath xlink:href=\"#arrow-79bb7e6e3ba1486c9523676434c784fc-0-0\" class=\"displacy-label\" startOffset=\"50%\" side=\"left\" fill=\"currentColor\" text-anchor=\"middle\">advmod</textPath>\n",
       "    </text>\n",
       "    <path class=\"displacy-arrowhead\" d=\"M70,244.0 L62,232.0 78,232.0\" fill=\"currentColor\"/>\n",
       "</g>\n",
       "\n",
       "<g class=\"displacy-arrow\">\n",
       "    <path class=\"displacy-arc\" id=\"arrow-79bb7e6e3ba1486c9523676434c784fc-0-1\" stroke-width=\"2px\" d=\"M190,242.0 C190,122.0 400.0,122.0 400.0,242.0\" fill=\"none\" stroke=\"currentColor\"/>\n",
       "    <text dy=\"1.25em\" style=\"font-size: 0.8em; letter-spacing: 1px\">\n",
       "        <textPath xlink:href=\"#arrow-79bb7e6e3ba1486c9523676434c784fc-0-1\" class=\"displacy-label\" startOffset=\"50%\" side=\"left\" fill=\"currentColor\" text-anchor=\"middle\">amod</textPath>\n",
       "    </text>\n",
       "    <path class=\"displacy-arrowhead\" d=\"M190,244.0 L182,232.0 198,232.0\" fill=\"currentColor\"/>\n",
       "</g>\n",
       "\n",
       "<g class=\"displacy-arrow\">\n",
       "    <path class=\"displacy-arc\" id=\"arrow-79bb7e6e3ba1486c9523676434c784fc-0-2\" stroke-width=\"2px\" d=\"M310,242.0 C310,182.0 395.0,182.0 395.0,242.0\" fill=\"none\" stroke=\"currentColor\"/>\n",
       "    <text dy=\"1.25em\" style=\"font-size: 0.8em; letter-spacing: 1px\">\n",
       "        <textPath xlink:href=\"#arrow-79bb7e6e3ba1486c9523676434c784fc-0-2\" class=\"displacy-label\" startOffset=\"50%\" side=\"left\" fill=\"currentColor\" text-anchor=\"middle\">compound</textPath>\n",
       "    </text>\n",
       "    <path class=\"displacy-arrowhead\" d=\"M310,244.0 L302,232.0 318,232.0\" fill=\"currentColor\"/>\n",
       "</g>\n",
       "\n",
       "<g class=\"displacy-arrow\">\n",
       "    <path class=\"displacy-arc\" id=\"arrow-79bb7e6e3ba1486c9523676434c784fc-0-3\" stroke-width=\"2px\" d=\"M430,242.0 C430,2.0 1130.0,2.0 1130.0,242.0\" fill=\"none\" stroke=\"currentColor\"/>\n",
       "    <text dy=\"1.25em\" style=\"font-size: 0.8em; letter-spacing: 1px\">\n",
       "        <textPath xlink:href=\"#arrow-79bb7e6e3ba1486c9523676434c784fc-0-3\" class=\"displacy-label\" startOffset=\"50%\" side=\"left\" fill=\"currentColor\" text-anchor=\"middle\">nsubj</textPath>\n",
       "    </text>\n",
       "    <path class=\"displacy-arrowhead\" d=\"M430,244.0 L422,232.0 438,232.0\" fill=\"currentColor\"/>\n",
       "</g>\n",
       "\n",
       "<g class=\"displacy-arrow\">\n",
       "    <path class=\"displacy-arc\" id=\"arrow-79bb7e6e3ba1486c9523676434c784fc-0-4\" stroke-width=\"2px\" d=\"M550,242.0 C550,182.0 635.0,182.0 635.0,242.0\" fill=\"none\" stroke=\"currentColor\"/>\n",
       "    <text dy=\"1.25em\" style=\"font-size: 0.8em; letter-spacing: 1px\">\n",
       "        <textPath xlink:href=\"#arrow-79bb7e6e3ba1486c9523676434c784fc-0-4\" class=\"displacy-label\" startOffset=\"50%\" side=\"left\" fill=\"currentColor\" text-anchor=\"middle\">det</textPath>\n",
       "    </text>\n",
       "    <path class=\"displacy-arrowhead\" d=\"M550,244.0 L542,232.0 558,232.0\" fill=\"currentColor\"/>\n",
       "</g>\n",
       "\n",
       "<g class=\"displacy-arrow\">\n",
       "    <path class=\"displacy-arc\" id=\"arrow-79bb7e6e3ba1486c9523676434c784fc-0-5\" stroke-width=\"2px\" d=\"M670,242.0 C670,182.0 755.0,182.0 755.0,242.0\" fill=\"none\" stroke=\"currentColor\"/>\n",
       "    <text dy=\"1.25em\" style=\"font-size: 0.8em; letter-spacing: 1px\">\n",
       "        <textPath xlink:href=\"#arrow-79bb7e6e3ba1486c9523676434c784fc-0-5\" class=\"displacy-label\" startOffset=\"50%\" side=\"left\" fill=\"currentColor\" text-anchor=\"middle\">amod</textPath>\n",
       "    </text>\n",
       "    <path class=\"displacy-arrowhead\" d=\"M670,244.0 L662,232.0 678,232.0\" fill=\"currentColor\"/>\n",
       "</g>\n",
       "\n",
       "<g class=\"displacy-arrow\">\n",
       "    <path class=\"displacy-arc\" id=\"arrow-79bb7e6e3ba1486c9523676434c784fc-0-6\" stroke-width=\"2px\" d=\"M790,242.0 C790,62.0 1125.0,62.0 1125.0,242.0\" fill=\"none\" stroke=\"currentColor\"/>\n",
       "    <text dy=\"1.25em\" style=\"font-size: 0.8em; letter-spacing: 1px\">\n",
       "        <textPath xlink:href=\"#arrow-79bb7e6e3ba1486c9523676434c784fc-0-6\" class=\"displacy-label\" startOffset=\"50%\" side=\"left\" fill=\"currentColor\" text-anchor=\"middle\">nsubj</textPath>\n",
       "    </text>\n",
       "    <path class=\"displacy-arrowhead\" d=\"M790,244.0 L782,232.0 798,232.0\" fill=\"currentColor\"/>\n",
       "</g>\n",
       "\n",
       "<g class=\"displacy-arrow\">\n",
       "    <path class=\"displacy-arc\" id=\"arrow-79bb7e6e3ba1486c9523676434c784fc-0-7\" stroke-width=\"2px\" d=\"M910,242.0 C910,122.0 1120.0,122.0 1120.0,242.0\" fill=\"none\" stroke=\"currentColor\"/>\n",
       "    <text dy=\"1.25em\" style=\"font-size: 0.8em; letter-spacing: 1px\">\n",
       "        <textPath xlink:href=\"#arrow-79bb7e6e3ba1486c9523676434c784fc-0-7\" class=\"displacy-label\" startOffset=\"50%\" side=\"left\" fill=\"currentColor\" text-anchor=\"middle\">aux</textPath>\n",
       "    </text>\n",
       "    <path class=\"displacy-arrowhead\" d=\"M910,244.0 L902,232.0 918,232.0\" fill=\"currentColor\"/>\n",
       "</g>\n",
       "\n",
       "<g class=\"displacy-arrow\">\n",
       "    <path class=\"displacy-arc\" id=\"arrow-79bb7e6e3ba1486c9523676434c784fc-0-8\" stroke-width=\"2px\" d=\"M1030,242.0 C1030,182.0 1115.0,182.0 1115.0,242.0\" fill=\"none\" stroke=\"currentColor\"/>\n",
       "    <text dy=\"1.25em\" style=\"font-size: 0.8em; letter-spacing: 1px\">\n",
       "        <textPath xlink:href=\"#arrow-79bb7e6e3ba1486c9523676434c784fc-0-8\" class=\"displacy-label\" startOffset=\"50%\" side=\"left\" fill=\"currentColor\" text-anchor=\"middle\">advmod</textPath>\n",
       "    </text>\n",
       "    <path class=\"displacy-arrowhead\" d=\"M1030,244.0 L1022,232.0 1038,232.0\" fill=\"currentColor\"/>\n",
       "</g>\n",
       "\n",
       "<g class=\"displacy-arrow\">\n",
       "    <path class=\"displacy-arc\" id=\"arrow-79bb7e6e3ba1486c9523676434c784fc-0-9\" stroke-width=\"2px\" d=\"M1150,242.0 C1150,2.0 2090.0,2.0 2090.0,242.0\" fill=\"none\" stroke=\"currentColor\"/>\n",
       "    <text dy=\"1.25em\" style=\"font-size: 0.8em; letter-spacing: 1px\">\n",
       "        <textPath xlink:href=\"#arrow-79bb7e6e3ba1486c9523676434c784fc-0-9\" class=\"displacy-label\" startOffset=\"50%\" side=\"left\" fill=\"currentColor\" text-anchor=\"middle\">ccomp</textPath>\n",
       "    </text>\n",
       "    <path class=\"displacy-arrowhead\" d=\"M1150,244.0 L1142,232.0 1158,232.0\" fill=\"currentColor\"/>\n",
       "</g>\n",
       "\n",
       "<g class=\"displacy-arrow\">\n",
       "    <path class=\"displacy-arc\" id=\"arrow-79bb7e6e3ba1486c9523676434c784fc-0-10\" stroke-width=\"2px\" d=\"M1150,242.0 C1150,182.0 1235.0,182.0 1235.0,242.0\" fill=\"none\" stroke=\"currentColor\"/>\n",
       "    <text dy=\"1.25em\" style=\"font-size: 0.8em; letter-spacing: 1px\">\n",
       "        <textPath xlink:href=\"#arrow-79bb7e6e3ba1486c9523676434c784fc-0-10\" class=\"displacy-label\" startOffset=\"50%\" side=\"left\" fill=\"currentColor\" text-anchor=\"middle\">dobj</textPath>\n",
       "    </text>\n",
       "    <path class=\"displacy-arrowhead\" d=\"M1235.0,244.0 L1243.0,232.0 1227.0,232.0\" fill=\"currentColor\"/>\n",
       "</g>\n",
       "\n",
       "<g class=\"displacy-arrow\">\n",
       "    <path class=\"displacy-arc\" id=\"arrow-79bb7e6e3ba1486c9523676434c784fc-0-11\" stroke-width=\"2px\" d=\"M1150,242.0 C1150,122.0 1360.0,122.0 1360.0,242.0\" fill=\"none\" stroke=\"currentColor\"/>\n",
       "    <text dy=\"1.25em\" style=\"font-size: 0.8em; letter-spacing: 1px\">\n",
       "        <textPath xlink:href=\"#arrow-79bb7e6e3ba1486c9523676434c784fc-0-11\" class=\"displacy-label\" startOffset=\"50%\" side=\"left\" fill=\"currentColor\" text-anchor=\"middle\">prep</textPath>\n",
       "    </text>\n",
       "    <path class=\"displacy-arrowhead\" d=\"M1360.0,244.0 L1368.0,232.0 1352.0,232.0\" fill=\"currentColor\"/>\n",
       "</g>\n",
       "\n",
       "<g class=\"displacy-arrow\">\n",
       "    <path class=\"displacy-arc\" id=\"arrow-79bb7e6e3ba1486c9523676434c784fc-0-12\" stroke-width=\"2px\" d=\"M1390,242.0 C1390,182.0 1475.0,182.0 1475.0,242.0\" fill=\"none\" stroke=\"currentColor\"/>\n",
       "    <text dy=\"1.25em\" style=\"font-size: 0.8em; letter-spacing: 1px\">\n",
       "        <textPath xlink:href=\"#arrow-79bb7e6e3ba1486c9523676434c784fc-0-12\" class=\"displacy-label\" startOffset=\"50%\" side=\"left\" fill=\"currentColor\" text-anchor=\"middle\">pobj</textPath>\n",
       "    </text>\n",
       "    <path class=\"displacy-arrowhead\" d=\"M1475.0,244.0 L1483.0,232.0 1467.0,232.0\" fill=\"currentColor\"/>\n",
       "</g>\n",
       "\n",
       "<g class=\"displacy-arrow\">\n",
       "    <path class=\"displacy-arc\" id=\"arrow-79bb7e6e3ba1486c9523676434c784fc-0-13\" stroke-width=\"2px\" d=\"M1630,242.0 C1630,62.0 2085.0,62.0 2085.0,242.0\" fill=\"none\" stroke=\"currentColor\"/>\n",
       "    <text dy=\"1.25em\" style=\"font-size: 0.8em; letter-spacing: 1px\">\n",
       "        <textPath xlink:href=\"#arrow-79bb7e6e3ba1486c9523676434c784fc-0-13\" class=\"displacy-label\" startOffset=\"50%\" side=\"left\" fill=\"currentColor\" text-anchor=\"middle\">nsubj</textPath>\n",
       "    </text>\n",
       "    <path class=\"displacy-arrowhead\" d=\"M1630,244.0 L1622,232.0 1638,232.0\" fill=\"currentColor\"/>\n",
       "</g>\n",
       "\n",
       "<g class=\"displacy-arrow\">\n",
       "    <path class=\"displacy-arc\" id=\"arrow-79bb7e6e3ba1486c9523676434c784fc-0-14\" stroke-width=\"2px\" d=\"M1630,242.0 C1630,182.0 1715.0,182.0 1715.0,242.0\" fill=\"none\" stroke=\"currentColor\"/>\n",
       "    <text dy=\"1.25em\" style=\"font-size: 0.8em; letter-spacing: 1px\">\n",
       "        <textPath xlink:href=\"#arrow-79bb7e6e3ba1486c9523676434c784fc-0-14\" class=\"displacy-label\" startOffset=\"50%\" side=\"left\" fill=\"currentColor\" text-anchor=\"middle\">cc</textPath>\n",
       "    </text>\n",
       "    <path class=\"displacy-arrowhead\" d=\"M1715.0,244.0 L1723.0,232.0 1707.0,232.0\" fill=\"currentColor\"/>\n",
       "</g>\n",
       "\n",
       "<g class=\"displacy-arrow\">\n",
       "    <path class=\"displacy-arc\" id=\"arrow-79bb7e6e3ba1486c9523676434c784fc-0-15\" stroke-width=\"2px\" d=\"M1870,242.0 C1870,182.0 1955.0,182.0 1955.0,242.0\" fill=\"none\" stroke=\"currentColor\"/>\n",
       "    <text dy=\"1.25em\" style=\"font-size: 0.8em; letter-spacing: 1px\">\n",
       "        <textPath xlink:href=\"#arrow-79bb7e6e3ba1486c9523676434c784fc-0-15\" class=\"displacy-label\" startOffset=\"50%\" side=\"left\" fill=\"currentColor\" text-anchor=\"middle\">poss</textPath>\n",
       "    </text>\n",
       "    <path class=\"displacy-arrowhead\" d=\"M1870,244.0 L1862,232.0 1878,232.0\" fill=\"currentColor\"/>\n",
       "</g>\n",
       "\n",
       "<g class=\"displacy-arrow\">\n",
       "    <path class=\"displacy-arc\" id=\"arrow-79bb7e6e3ba1486c9523676434c784fc-0-16\" stroke-width=\"2px\" d=\"M1630,242.0 C1630,122.0 1960.0,122.0 1960.0,242.0\" fill=\"none\" stroke=\"currentColor\"/>\n",
       "    <text dy=\"1.25em\" style=\"font-size: 0.8em; letter-spacing: 1px\">\n",
       "        <textPath xlink:href=\"#arrow-79bb7e6e3ba1486c9523676434c784fc-0-16\" class=\"displacy-label\" startOffset=\"50%\" side=\"left\" fill=\"currentColor\" text-anchor=\"middle\">conj</textPath>\n",
       "    </text>\n",
       "    <path class=\"displacy-arrowhead\" d=\"M1960.0,244.0 L1968.0,232.0 1952.0,232.0\" fill=\"currentColor\"/>\n",
       "</g>\n",
       "\n",
       "<g class=\"displacy-arrow\">\n",
       "    <path class=\"displacy-arc\" id=\"arrow-79bb7e6e3ba1486c9523676434c784fc-0-17\" stroke-width=\"2px\" d=\"M2230,242.0 C2230,122.0 2440.0,122.0 2440.0,242.0\" fill=\"none\" stroke=\"currentColor\"/>\n",
       "    <text dy=\"1.25em\" style=\"font-size: 0.8em; letter-spacing: 1px\">\n",
       "        <textPath xlink:href=\"#arrow-79bb7e6e3ba1486c9523676434c784fc-0-17\" class=\"displacy-label\" startOffset=\"50%\" side=\"left\" fill=\"currentColor\" text-anchor=\"middle\">det</textPath>\n",
       "    </text>\n",
       "    <path class=\"displacy-arrowhead\" d=\"M2230,244.0 L2222,232.0 2238,232.0\" fill=\"currentColor\"/>\n",
       "</g>\n",
       "\n",
       "<g class=\"displacy-arrow\">\n",
       "    <path class=\"displacy-arc\" id=\"arrow-79bb7e6e3ba1486c9523676434c784fc-0-18\" stroke-width=\"2px\" d=\"M2350,242.0 C2350,182.0 2435.0,182.0 2435.0,242.0\" fill=\"none\" stroke=\"currentColor\"/>\n",
       "    <text dy=\"1.25em\" style=\"font-size: 0.8em; letter-spacing: 1px\">\n",
       "        <textPath xlink:href=\"#arrow-79bb7e6e3ba1486c9523676434c784fc-0-18\" class=\"displacy-label\" startOffset=\"50%\" side=\"left\" fill=\"currentColor\" text-anchor=\"middle\">amod</textPath>\n",
       "    </text>\n",
       "    <path class=\"displacy-arrowhead\" d=\"M2350,244.0 L2342,232.0 2358,232.0\" fill=\"currentColor\"/>\n",
       "</g>\n",
       "\n",
       "<g class=\"displacy-arrow\">\n",
       "    <path class=\"displacy-arc\" id=\"arrow-79bb7e6e3ba1486c9523676434c784fc-0-19\" stroke-width=\"2px\" d=\"M2110,242.0 C2110,62.0 2445.0,62.0 2445.0,242.0\" fill=\"none\" stroke=\"currentColor\"/>\n",
       "    <text dy=\"1.25em\" style=\"font-size: 0.8em; letter-spacing: 1px\">\n",
       "        <textPath xlink:href=\"#arrow-79bb7e6e3ba1486c9523676434c784fc-0-19\" class=\"displacy-label\" startOffset=\"50%\" side=\"left\" fill=\"currentColor\" text-anchor=\"middle\">dobj</textPath>\n",
       "    </text>\n",
       "    <path class=\"displacy-arrowhead\" d=\"M2445.0,244.0 L2453.0,232.0 2437.0,232.0\" fill=\"currentColor\"/>\n",
       "</g>\n",
       "\n",
       "<g class=\"displacy-arrow\">\n",
       "    <path class=\"displacy-arc\" id=\"arrow-79bb7e6e3ba1486c9523676434c784fc-0-20\" stroke-width=\"2px\" d=\"M2590,242.0 C2590,182.0 2675.0,182.0 2675.0,242.0\" fill=\"none\" stroke=\"currentColor\"/>\n",
       "    <text dy=\"1.25em\" style=\"font-size: 0.8em; letter-spacing: 1px\">\n",
       "        <textPath xlink:href=\"#arrow-79bb7e6e3ba1486c9523676434c784fc-0-20\" class=\"displacy-label\" startOffset=\"50%\" side=\"left\" fill=\"currentColor\" text-anchor=\"middle\">det</textPath>\n",
       "    </text>\n",
       "    <path class=\"displacy-arrowhead\" d=\"M2590,244.0 L2582,232.0 2598,232.0\" fill=\"currentColor\"/>\n",
       "</g>\n",
       "\n",
       "<g class=\"displacy-arrow\">\n",
       "    <path class=\"displacy-arc\" id=\"arrow-79bb7e6e3ba1486c9523676434c784fc-0-21\" stroke-width=\"2px\" d=\"M2110,242.0 C2110,2.0 2690.0,2.0 2690.0,242.0\" fill=\"none\" stroke=\"currentColor\"/>\n",
       "    <text dy=\"1.25em\" style=\"font-size: 0.8em; letter-spacing: 1px\">\n",
       "        <textPath xlink:href=\"#arrow-79bb7e6e3ba1486c9523676434c784fc-0-21\" class=\"displacy-label\" startOffset=\"50%\" side=\"left\" fill=\"currentColor\" text-anchor=\"middle\">npadvmod</textPath>\n",
       "    </text>\n",
       "    <path class=\"displacy-arrowhead\" d=\"M2690.0,244.0 L2698.0,232.0 2682.0,232.0\" fill=\"currentColor\"/>\n",
       "</g>\n",
       "</svg></span>"
      ],
      "text/plain": [
       "<IPython.core.display.HTML object>"
      ]
     },
     "metadata": {},
     "output_type": "display_data"
    }
   ],
   "source": [
    "#Here is an \"under the hood\" look at the annotations that the model placed on example\n",
    "displacy.render(nlp(str(example)), style='dep', jupyter = True, options = {'distance': 120})"
   ]
  },
  {
   "cell_type": "markdown",
   "metadata": {},
   "source": [
    "### Fin for now"
   ]
  },
  {
   "cell_type": "markdown",
   "metadata": {},
   "source": [
    "### For creating vector representations of each token:\n",
    "* https://www.dataquest.io/blog/tutorial-text-classification-in-python-using-spacy/"
   ]
  },
  {
   "cell_type": "code",
   "execution_count": 16,
   "metadata": {},
   "outputs": [
    {
     "name": "stdout",
     "output_type": "stream",
     "text": [
      "(96,)\n",
      "[-0.01597212 -0.06585884 -0.12272161 -0.06319936  0.10595281 -0.26592857\n",
      "  0.009597   -0.18387161  0.22103883 -0.09978317 -0.06497978 -0.14702599\n",
      "  0.18614815  0.23146775 -0.17594999 -0.17636737 -0.04162822 -0.12467759\n",
      " -0.27792218 -0.13081977 -0.09354423 -0.03238046 -0.02361845  0.14279263\n",
      "  0.23841856  0.17729084 -0.0099194  -0.0245508  -0.24542347  0.7447064\n",
      " -0.26634976  0.22512293 -0.34267935  0.2837784  -0.14622386  0.11161509\n",
      " -0.30725792  0.05584962 -0.05270758  0.1990669  -0.02435051  0.32070118\n",
      " -0.14390947 -0.26428363 -0.24050215 -0.0786149   0.32975835  0.48022923\n",
      " -0.05015451 -0.27521688  0.15141559 -0.10644344  0.04019525  0.173697\n",
      " -0.09854608  0.04899363  0.3485072  -0.12223566  0.2754811  -0.08169848\n",
      " -0.03703514 -0.19430453  0.33448026 -0.42756495 -0.06252185 -0.30588007\n",
      " -0.22029015  0.3366049  -0.19730693 -0.25510186  0.0416397   0.18952209\n",
      " -0.11853432 -0.02600521 -0.28164327 -0.09401219  0.38853905  0.32815808\n",
      " -0.29747817  0.21674028 -0.06386046 -0.5815586  -0.07349226  0.4311546\n",
      "  0.03238917 -0.08090389  0.36645812  0.46788788 -0.09051982  0.0930909\n",
      " -0.3827113  -0.10722269  0.00178087 -0.28063652  0.14500019 -0.0479028 ]\n"
     ]
    }
   ],
   "source": [
    "print(example.vector.shape)\n",
    "print(example.vector)"
   ]
  },
  {
   "cell_type": "markdown",
   "metadata": {},
   "source": [
    "###  (In event  need rules based) Now that we've been able to identify named entities let’s take a look at spaCy's customizable matching capabilities\n",
    "### say we want to enable spaCy to find a combination of three tokens:\n",
    "\n",
    "* A token whose lowercase form matches team, e.g. Team or \"TEAM\".\n",
    "* A token whose is_punct flag is set to True, i.e. any punctuation.\n",
    "* A token whose lowercase form matches “manager”, e.g. Manager or \"MANAGER\".\n",
    "\n",
    "see links: \n",
    "* https://towardsdatascience.com/explorations-in-named-entity-recognition-and-was-eleanor-roosevelt-right-671271117218\n",
    "* https://spacy.io/usage/rule-based-matching"
   ]
  },
  {
   "cell_type": "code",
   "execution_count": 17,
   "metadata": {},
   "outputs": [
    {
     "name": "stdout",
     "output_type": "stream",
     "text": [
      "match_id             string_id start end    span_text\n",
      "12662094209803597944 MikeYou   0      3 Mike, You\n"
     ]
    }
   ],
   "source": [
    "matcher = Matcher(nlp.vocab)\n",
    "# Add match ID \"TeamManager\" with no callback and one pattern\n",
    "pattern = [{\"LOWER\": \"mike\"}, {\"IS_PUNCT\": True}, {\"LOWER\": \"you\"}]\n",
    "matcher.add(\"MikeYou\", [pattern])\n",
    "\n",
    "doc = nlp(\"Mike, You and your Team were great!!\")\n",
    "print(f\"{'match_id':{20}} {'string_id':{6}} {'start':{3}} {'end':{6}} {'span_text'}\")\n",
    "matches = matcher(doc)\n",
    "for match_id, start, end in matches:\n",
    "    string_id = nlp.vocab.strings[match_id]  # Get string representation\n",
    "    span = doc[start:end]  # The matched span\n",
    "    print(f\"{match_id:{20}} {string_id:{6}} {start:{3}} {end:{6}} {span.text}\")"
   ]
  }
 ],
 "metadata": {
  "interpreter": {
   "hash": "9daf5f2db2131234fdd35187edfbe4827c491c308d6bf8368f03c6c97b720961"
  },
  "kernelspec": {
   "display_name": "Python 3.8.2 ('spacy.env': venv)",
   "language": "python",
   "name": "python3"
  },
  "language_info": {
   "codemirror_mode": {
    "name": "ipython",
    "version": 3
   },
   "file_extension": ".py",
   "mimetype": "text/x-python",
   "name": "python",
   "nbconvert_exporter": "python",
   "pygments_lexer": "ipython3",
   "version": "3.8.2"
  },
  "orig_nbformat": 4
 },
 "nbformat": 4,
 "nbformat_minor": 2
}
